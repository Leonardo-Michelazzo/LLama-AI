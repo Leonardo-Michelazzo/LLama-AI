{
 "cells": [
  {
   "cell_type": "code",
   "execution_count": null,
   "metadata": {},
   "outputs": [],
   "source": [
    "import sagemaker as sage # SageMaker Python SDKcket = sage.Session().default_bucket() # The bucket is where data for Machine Learning is stored\n",
    "role = sage.get_execution_role() # The role is what gives rights to SageMaker to access resources in the cloud    "
   ]
  },
  {
   "attachments": {},
   "cell_type": "markdown",
   "metadata": {},
   "source": [
    "In the first part we initialized the [S3 bucket](https://aws.amazon.com/it/s3/) and the [IAM role](https://aws.amazon.com/it/iam/) that will be used by the [SageMaker](https://aws.amazon.com/it/sagemaker/) instance."
   ]
  },
  {
   "cell_type": "code",
   "execution_count": null,
   "metadata": {},
   "outputs": [],
   "source": [
    "import os # interactions with the operating system, allows you to use the files\n",
    "import numpy as np # library for mathematical operations, allows to use multidimensional arrays\n",
    "from sagemaker.rl import RLEstimator, RLToolkit, RLFramework \n",
    "from game import TicTacToeGame # This will be changed in order to import @leonardo's game"
   ]
  },
  {
   "attachments": {},
   "cell_type": "markdown",
   "metadata": {},
   "source": [
    "Then we imported all the libraries we would need, in particular the [SageMaker Python SDK](https://sagemaker.readthedocs.io/en/stable/), which we will use to interact with the SageMaker instance."
   ]
  },
  {
   "cell_type": "code",
   "execution_count": null,
   "metadata": {},
   "outputs": [],
   "source": [
    "estimator = RLEstimator(\n",
    "    source_dir=\"src\",\n",
    "    entry_point=\"train-coach.py\",\n",
    "    dependencies=[\"common/sagemaker_rl\"],\n",
    "    toolkit=RLToolkit.COACH,\n",
    "    toolkit_version=\"0.11.0\",\n",
    "    framework=RLFramework.MXNET,\n",
    "    role=role,\n",
    "    instance_count=1,\n",
    "    instance_type=\"ml.m4.xlarge\",\n",
    "    output_path=f\"s3://{bucket}/\",\n",
    "    base_job_name=\"DEMO-rl-tic-tac-toe\",\n",
    "    hyperparameters={\"save_model\": 1},\n",
    ")\n",
    "\n",
    "estimator.fit()"
   ]
  },
  {
   "attachments": {},
   "cell_type": "markdown",
   "metadata": {},
   "source": [
    "[`RLEstimator`](https://sagemaker.readthedocs.io/en/stable/frameworks/rl/sagemaker.rl.html) is a wrapper of the [Reinforcement Learning](https://docs.aws.amazon.com/sagemaker/latest/dg/sagemaker-rl-workflow.html) option of SageMaker."
   ]
  }
 ],
 "metadata": {
  "language_info": {
   "name": "python"
  },
  "orig_nbformat": 4
 },
 "nbformat": 4,
 "nbformat_minor": 2
}
