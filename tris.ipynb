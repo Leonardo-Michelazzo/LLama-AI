{
 "cells": [
  {
   "attachments": {},
   "cell_type": "markdown",
   "metadata": {},
   "source": [
    "In the first part we initialized the [S3 bucket](https://aws.amazon.com/it/s3/) and the [IAM role](https://aws.amazon.com/it/iam/) that will be used by the [SageMaker](https://aws.amazon.com/it/sagemaker/) instance."
   ]
  },
  {
   "cell_type": "code",
   "execution_count": null,
   "metadata": {},
   "outputs": [],
   "source": [
    "import os # interactions with the operating system, allows you to use the files\n",
    "import numpy as np # library for mathematical operations, allows to use multidimensional arrays\n",
    "from sagemaker.rl import RLEstimator, RLToolkit, RLFramework \n",
    "from game import TicTacToeGame # This will be changed in order to import @leonardo's game"
   ]
  },
  {
   "attachments": {},
   "cell_type": "markdown",
   "metadata": {},
   "source": [
    "Then we imported all the libraries we would need, in particular the [SageMaker Python SDK](https://sagemaker.readthedocs.io/en/stable/), which we will use to interact with the SageMaker instance."
   ]
  },
  {
   "cell_type": "code",
   "execution_count": null,
   "metadata": {},
   "outputs": [],
   "source": [
    "# Set up an estimator object for training a reinforcement learning model\n",
    "estimator = RLEstimator(\n",
    "    source_dir=\"src\",  # Directory containing the training code\n",
    "    entry_point=\"train-coach.py\",  # Entry point file for training\n",
    "    dependencies=[\"common/sagemaker_rl\"],  # Required dependencies\n",
    "    toolkit=RLToolkit.COACH,  # Reinforcement learning toolkit to use\n",
    "    toolkit_version=\"0.11.0\",  # Version of the toolkit\n",
    "    framework=RLFramework.MXNET,  # Deep learning framework to use\n",
    "    role=role,  # IAM role with appropriate permissions\n",
    "    instance_count=1,  # Number of instances for training\n",
    "    instance_type=\"ml.m4.xlarge\",  # Instance type for training\n",
    "    output_path=f\"s3://{bucket}/\",  # S3 output path for model artifacts\n",
    "    base_job_name=\"DEMO-rl-tic-tac-toe\",  # Base name for the training job\n",
    "    hyperparameters={\"save_model\": 1},  # Hyperparameters for training\n",
    ")\n",
    "\n",
    "# Start the training process\n",
    "estimator.fit()"
   ]
  },
  {
   "cell_type": "code",
   "execution_count": null,
   "metadata": {},
   "outputs": [],
   "source": [
    "import sagemaker # SageMaker Python SDKcket = sage.Session().default_bucket() # The bucket is where data for Machine Learning is stored\n",
    "role = sagemaker.get_execution_role() # The role is what gives rights to SageMaker to access resources in the cloud    "
   ]
  },
  {
   "attachments": {},
   "cell_type": "markdown",
   "metadata": {},
   "source": [
    "In the first part we initialized the [S3 bucket](https://aws.amazon.com/it/s3/) and the [IAM role](https://aws.amazon.com/it/iam/) that will be used by the [SageMaker](https://aws.amazon.com/it/sagemaker/) instance."
   ]
  },
  {
   "cell_type": "code",
   "execution_count": null,
   "metadata": {},
   "outputs": [],
   "source": [
    "import os # interactions with the operating system, allows you to use the files\n",
    "import numpy as np # library for mathematical operations, allows to use multidimensional arrays\n",
    "from sagemaker.rl import RLEstimator, RLToolkit, RLFramework \n",
    "from game import TicTacToeGame # This will be changed in order to import @leonardo's game"
   ]
  },
  {
   "attachments": {},
   "cell_type": "markdown",
   "metadata": {},
   "source": [
    "[`RLEstimator`](https://sagemaker.readthedocs.io/en/stable/frameworks/rl/sagemaker.rl.html) is a wrapper of the [Reinforcement Learning](https://docs.aws.amazon.com/sagemaker/latest/dg/sagemaker-rl-workflow.html) option of SageMaker."
   ]
  },
  {
   "cell_type": "code",
   "execution_count": null,
   "metadata": {},
   "outputs": [],
   "source": [
    "!pygmentize ./src/deploy-coach.py"
   ]
  },
  {
   "cell_type": "code",
   "execution_count": null,
   "metadata": {},
   "outputs": [],
   "source": [
    "# Deploy the trained model as a predictor\n",
    "predictor = estimator.deploy(\n",
    "    initial_instance_count=1,  # Number of initial instances for deployment\n",
    "    instance_type=\"ml.m4.xlarge\",  # Instance type for deployment\n",
    "    entry_point=\"deploy-coach.py\"  # Entry point file for deployment\n",
    ")"
   ]
  }
 ],
 "metadata": {
  "kernelspec": {
   "display_name": "Python 3",
   "language": "python",
   "name": "python3"
  },
  "language_info": {
   "codemirror_mode": {
    "name": "ipython",
    "version": 3
   },
   "file_extension": ".py",
   "mimetype": "text/x-python",
   "name": "python",
   "nbconvert_exporter": "python",
   "pygments_lexer": "ipython3",
   "version": "3.11.4"
  },
  "orig_nbformat": 4
 },
 "nbformat": 4,
 "nbformat_minor": 2
}
